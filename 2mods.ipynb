{
 "cells": [
  {
   "cell_type": "code",
   "execution_count": 1,
   "metadata": {},
   "outputs": [],
   "source": [
    "import pandas as pd\n",
    "import seaborn as sns\n",
    "\n",
    "from utils import GetTrainDF, GetTestDF"
   ]
  },
  {
   "cell_type": "code",
   "execution_count": 2,
   "metadata": {},
   "outputs": [],
   "source": [
    "train_df = GetTrainDF()\n",
    "test_df = GetTestDF()"
   ]
  },
  {
   "cell_type": "code",
   "execution_count": 8,
   "metadata": {},
   "outputs": [
    {
     "data": {
      "text/plain": [
       "(0, 0)"
      ]
     },
     "execution_count": 8,
     "metadata": {},
     "output_type": "execute_result"
    }
   ],
   "source": [
    "train_df.isna().sum().sum(), test_df.isna().sum().sum()"
   ]
  },
  {
   "cell_type": "code",
   "execution_count": 10,
   "metadata": {},
   "outputs": [
    {
     "data": {
      "text/plain": [
       "(14838, 33)"
      ]
     },
     "execution_count": 10,
     "metadata": {},
     "output_type": "execute_result"
    }
   ],
   "source": [
    "train_df.shape"
   ]
  },
  {
   "cell_type": "code",
   "execution_count": 6,
   "metadata": {},
   "outputs": [],
   "source": [
    "from sklearn.model_selection import train_test_split\n",
    "\n",
    "def get_Xy(target: str):\n",
    "\n",
    "  if not target in (\"EC1\", \"EC2\"):\n",
    "    raise ValueError(\"target must be EC1 or EC2\")\n",
    "\n",
    "  return train_test_split(\n",
    "      train_df.drop(columns=[\"EC1\", \"EC2\"], axis=1),\n",
    "      train_df[target],\n",
    "      test_size=0.2,\n",
    "      random_state=42\n",
    "  )\n",
    "\n",
    "X_train1, X_test1, y_train1, y_test1 = get_Xy(\"EC1\")\n",
    "X_train2, X_test2, y_train2, y_test2 = get_Xy(\"EC2\")"
   ]
  },
  {
   "cell_type": "code",
   "execution_count": 9,
   "metadata": {},
   "outputs": [],
   "source": [
    "# build a 3 step pipeline:\n",
    "# 1. normalize the data\n",
    "# 2. select the best features\n",
    "# 3. train a random forest classifier\n",
    "\n",
    "from sklearn.pipeline import Pipeline\n",
    "from sklearn.preprocessing import StandardScaler\n",
    "from sklearn.feature_selection import SelectKBest, f_classif\n",
    "from sklearn.ensemble import RandomForestClassifier\n",
    "\n",
    "pipe = Pipeline([\n",
    "    (\"scaler\", StandardScaler()),\n",
    "    (\"selector\", SelectKBest(f_classif)),\n",
    "    (\"rf\", RandomForestClassifier())\n",
    "])"
   ]
  },
  {
   "cell_type": "code",
   "execution_count": 16,
   "metadata": {},
   "outputs": [],
   "source": [
    "# we will use grid search to find the best parameters for the pipeline\n",
    "from sklearn.model_selection import GridSearchCV\n",
    "\n",
    "# we will use the same parameters for both targets\n",
    "params = {\n",
    "    \"selector__k\": [25, 30, \"all\"],\n",
    "    \"rf__n_estimators\": [100, 110],\n",
    "    \"rf__max_depth\": [None, 10, 15],\n",
    "    \"rf__min_samples_split\": [2, 3, 4],\n",
    "    \"rf__min_samples_leaf\": [1, 2, 3]\n",
    "}\n",
    "\n",
    "# we will use the same grid search for both targets\n",
    "grid = GridSearchCV(\n",
    "    estimator=pipe,\n",
    "    param_grid=params,\n",
    "    scoring=\"roc_auc\",\n",
    "    n_jobs=-1,\n",
    "    cv=4,\n",
    "    verbose=1\n",
    ")\n",
    "\n",
    "from copy import deepcopy\n",
    "\n",
    "# we will use the same grid search for both targets\n",
    "ec1_grid = deepcopy(grid)\n",
    "ec2_grid = deepcopy(grid)"
   ]
  },
  {
   "cell_type": "code",
   "execution_count": 17,
   "metadata": {},
   "outputs": [
    {
     "name": "stdout",
     "output_type": "stream",
     "text": [
      "Fitting 4 folds for each of 162 candidates, totalling 648 fits\n",
      "              precision    recall  f1-score   support\n",
      "\n",
      "       False       0.58      0.37      0.45       976\n",
      "        True       0.74      0.87      0.80      1992\n",
      "\n",
      "    accuracy                           0.70      2968\n",
      "   macro avg       0.66      0.62      0.62      2968\n",
      "weighted avg       0.68      0.70      0.68      2968\n",
      "\n"
     ]
    }
   ],
   "source": [
    "# target: EC1\n",
    "\n",
    "ec1_grid.fit(X_train1, y_train1)\n",
    "ec1_params = ec1_grid.best_params_\n",
    "\n",
    "# create a new pipeline with the best parameters\n",
    "ec1_pipe = Pipeline([\n",
    "    (\"scaler\", StandardScaler()),\n",
    "    (\"selector\", SelectKBest(f_classif, k=ec1_params[\"selector__k\"])),\n",
    "    (\"rf\", RandomForestClassifier(\n",
    "        n_estimators=ec1_params[\"rf__n_estimators\"],\n",
    "        max_depth=ec1_params[\"rf__max_depth\"],\n",
    "        min_samples_split=ec1_params[\"rf__min_samples_split\"],\n",
    "        min_samples_leaf=ec1_params[\"rf__min_samples_leaf\"]\n",
    "    ))\n",
    "])\n",
    "\n",
    "# create a classification report\n",
    "from sklearn.metrics import classification_report\n",
    "\n",
    "ec1_pipe.fit(X_train1, y_train1)\n",
    "print(classification_report(y_test1, ec1_pipe.predict(X_test1)))\n"
   ]
  },
  {
   "cell_type": "code",
   "execution_count": 18,
   "metadata": {},
   "outputs": [
    {
     "data": {
      "text/plain": [
       "{'rf__max_depth': 10,\n",
       " 'rf__min_samples_leaf': 1,\n",
       " 'rf__min_samples_split': 2,\n",
       " 'rf__n_estimators': 110,\n",
       " 'selector__k': 30}"
      ]
     },
     "execution_count": 18,
     "metadata": {},
     "output_type": "execute_result"
    }
   ],
   "source": [
    "ec1_params\n",
    "\n"
   ]
  }
 ],
 "metadata": {
  "kernelspec": {
   "display_name": "DataScience",
   "language": "python",
   "name": "python3"
  },
  "language_info": {
   "codemirror_mode": {
    "name": "ipython",
    "version": 3
   },
   "file_extension": ".py",
   "mimetype": "text/x-python",
   "name": "python",
   "nbconvert_exporter": "python",
   "pygments_lexer": "ipython3",
   "version": "3.11.2"
  },
  "orig_nbformat": 4
 },
 "nbformat": 4,
 "nbformat_minor": 2
}
