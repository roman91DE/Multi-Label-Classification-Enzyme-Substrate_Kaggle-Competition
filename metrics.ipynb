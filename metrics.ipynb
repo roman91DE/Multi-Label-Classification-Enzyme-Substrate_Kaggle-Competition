{
 "cells": [
  {
   "cell_type": "code",
   "execution_count": null,
   "metadata": {},
   "outputs": [],
   "source": [
    "from dataclasses import dataclass"
   ]
  },
  {
   "cell_type": "code",
   "execution_count": null,
   "metadata": {},
   "outputs": [],
   "source": []
  },
  {
   "cell_type": "code",
   "execution_count": 1,
   "metadata": {},
   "outputs": [],
   "source": [
    "true_vals = [0, 1, 1, 0, 1, 0, 0, 1, 1, 0]\n",
    "pred_vals = [0, 1, 1, 1, 1, 0, 0, 1, 1, 1]"
   ]
  },
  {
   "cell_type": "code",
   "execution_count": 3,
   "metadata": {},
   "outputs": [],
   "source": [
    "def _helper(true_vals, pred_vals) -> dict:\n",
    "    d = {\n",
    "        'TP': 0,\n",
    "        'TN': 0,\n",
    "        'FP': 0,\n",
    "        'FN': 0\n",
    "    }\n",
    "    for target, prediction in zip(true_vals, pred_vals):\n",
    "        if target == 1 and prediction == 1:\n",
    "            d['TP'] += 1\n",
    "        elif target == 0 and prediction == 0:\n",
    "            d['TN'] += 1\n",
    "        elif target == 0 and prediction == 1:\n",
    "            d['FP'] += 1\n",
    "        elif target == 1 and prediction == 0:\n",
    "            d['FN'] += 1\n",
    "    return d\n",
    "        "
   ]
  },
  {
   "cell_type": "code",
   "execution_count": 4,
   "metadata": {},
   "outputs": [],
   "source": [
    "def accuracy(true_vals, pred_vals):\n",
    "    d = _helper(true_vals, pred_vals)\n",
    "    return (d['TP'] + d['TN']) / (d['TP'] + d['TN'] + d['FP'] + d['FN'])\n",
    "        "
   ]
  },
  {
   "cell_type": "code",
   "execution_count": 5,
   "metadata": {},
   "outputs": [
    {
     "name": "stdout",
     "output_type": "stream",
     "text": [
      "0.8\n",
      "0.8\n"
     ]
    }
   ],
   "source": [
    "from sklearn.metrics import accuracy_score\n",
    "\n",
    "print(accuracy(true_vals, pred_vals))\n",
    "print(accuracy_score(true_vals, pred_vals))"
   ]
  }
 ],
 "metadata": {
  "kernelspec": {
   "display_name": "DataScience",
   "language": "python",
   "name": "python3"
  },
  "language_info": {
   "codemirror_mode": {
    "name": "ipython",
    "version": 3
   },
   "file_extension": ".py",
   "mimetype": "text/x-python",
   "name": "python",
   "nbconvert_exporter": "python",
   "pygments_lexer": "ipython3",
   "version": "3.11.2"
  },
  "orig_nbformat": 4
 },
 "nbformat": 4,
 "nbformat_minor": 2
}
