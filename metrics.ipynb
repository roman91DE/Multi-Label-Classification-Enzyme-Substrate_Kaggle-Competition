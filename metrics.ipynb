{
 "cells": [
  {
   "cell_type": "code",
   "execution_count": 34,
   "metadata": {},
   "outputs": [],
   "source": [
    "from dataclasses import dataclass"
   ]
  },
  {
   "cell_type": "code",
   "execution_count": 35,
   "metadata": {},
   "outputs": [],
   "source": [
    "@dataclass\n",
    "class ClassificationScore:\n",
    "    TP: int = 0 # True Positive\n",
    "    FP: int = 0 # False Positive\n",
    "    TN: int = 0 # True Negative\n",
    "    FN: int = 0 # False Negative\n",
    "\n",
    "    def num_cases(self):\n",
    "        return self.TP + self.FP + self.TN + self.FN\n",
    "    \n",
    "    def accuracy(self):\n",
    "        \"\"\"how many cases were correctly classified\"\"\"\n",
    "        return (self.TP + self.TN) / self.num_cases()\n",
    "    \n",
    "    def precision(self):\n",
    "        \"\"\"how many positive predictions were correct\"\"\"\n",
    "        return self.TP / (self.TP + self.FP)\n",
    "\n",
    "    def specificity(self):\n",
    "        \"\"\"how many negative cases were correctly classified\"\"\"\n",
    "        return self.TN / (self.TN + self.FP)\n",
    "    \n",
    "    def recall(self):\n",
    "        \"\"\"how many positive cases were correctly classified\"\"\"\n",
    "        return self.TP / (self.TP + self.FN)\n",
    "    \n",
    "    def f1(self):\n",
    "        \"\"\"harmonic mean of precision and recall\"\"\"\n",
    "        return 2 * self.precision() * self.recall() / (self.precision() + self.recall())\n",
    "\n",
    "    def roc_auc(self):\n",
    "        \"\"\"Receiver Operating Characteristic Area Under the Curve\"\"\"\n",
    "        return (self.TP / (self.TP + self.FN)) - (self.FP / (self.FP + self.TN))\n",
    "    \n",
    "def get_ClassificationScore(true_vals, pred_vals) -> ClassificationScore:\n",
    "    cs = ClassificationScore()\n",
    "    for target, prediction in zip(true_vals, pred_vals):\n",
    "        if target == 1 and prediction == 1:\n",
    "            cs.TP += 1\n",
    "        elif target == 0 and prediction == 0:\n",
    "            cs.TN += 1\n",
    "        elif target == 0 and prediction == 1:\n",
    "            cs.FP += 1\n",
    "        elif target == 1 and prediction == 0:\n",
    "            cs.FN += 1\n",
    "    return cs"
   ]
  },
  {
   "cell_type": "code",
   "execution_count": 36,
   "metadata": {},
   "outputs": [],
   "source": [
    "true_vals = [0, 1, 1, 0, 1, 0, 0, 1, 1, 0]\n",
    "pred_vals = [0, 1, 1, 1, 1, 0, 0, 1, 1, 1]"
   ]
  },
  {
   "cell_type": "code",
   "execution_count": 37,
   "metadata": {},
   "outputs": [],
   "source": [
    "\n",
    "cs = get_ClassificationScore(true_vals, pred_vals)"
   ]
  },
  {
   "cell_type": "code",
   "execution_count": 38,
   "metadata": {},
   "outputs": [
    {
     "name": "stdout",
     "output_type": "stream",
     "text": [
      "0.8\n",
      "0.8\n"
     ]
    }
   ],
   "source": [
    "from sklearn.metrics import accuracy_score\n",
    "\n",
    "print(cs.accuracy())\n",
    "print(accuracy_score(true_vals, pred_vals))"
   ]
  },
  {
   "cell_type": "code",
   "execution_count": 39,
   "metadata": {},
   "outputs": [
    {
     "name": "stdout",
     "output_type": "stream",
     "text": [
      "0.7142857142857143\n",
      "0.7142857142857143\n"
     ]
    }
   ],
   "source": [
    "from sklearn.metrics import precision_score\n",
    "\n",
    "print(cs.precision())\n",
    "print(precision_score(true_vals, pred_vals))"
   ]
  },
  {
   "cell_type": "code",
   "execution_count": 40,
   "metadata": {},
   "outputs": [
    {
     "name": "stdout",
     "output_type": "stream",
     "text": [
      "1.0\n",
      "1.0\n"
     ]
    }
   ],
   "source": [
    "from sklearn.metrics import recall_score\n",
    "\n",
    "print(cs.recall())\n",
    "print(recall_score(true_vals, pred_vals))"
   ]
  },
  {
   "cell_type": "code",
   "execution_count": 41,
   "metadata": {},
   "outputs": [
    {
     "name": "stdout",
     "output_type": "stream",
     "text": [
      "0.8333333333333333\n",
      "0.8333333333333333\n"
     ]
    }
   ],
   "source": [
    "from sklearn.metrics import f1_score\n",
    "\n",
    "print(cs.f1())\n",
    "print(f1_score(true_vals, pred_vals))"
   ]
  },
  {
   "cell_type": "code",
   "execution_count": 42,
   "metadata": {},
   "outputs": [
    {
     "name": "stdout",
     "output_type": "stream",
     "text": [
      "0.6\n",
      "0.8\n"
     ]
    }
   ],
   "source": [
    "from sklearn.metrics import roc_auc_score\n",
    "\n",
    "print(cs.roc_auc())\n",
    "print(roc_auc_score(true_vals, pred_vals))"
   ]
  }
 ],
 "metadata": {
  "kernelspec": {
   "display_name": "DataScience",
   "language": "python",
   "name": "python3"
  },
  "language_info": {
   "codemirror_mode": {
    "name": "ipython",
    "version": 3
   },
   "file_extension": ".py",
   "mimetype": "text/x-python",
   "name": "python",
   "nbconvert_exporter": "python",
   "pygments_lexer": "ipython3",
   "version": "3.11.4"
  },
  "orig_nbformat": 4
 },
 "nbformat": 4,
 "nbformat_minor": 2
}
